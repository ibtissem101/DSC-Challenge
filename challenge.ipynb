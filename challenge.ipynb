{
 "cells": [
  {
   "cell_type": "markdown",
   "id": "c28b25f7",
   "metadata": {},
   "source": [
    "# Challenge Notebook"
   ]
  },
  {
   "cell_type": "markdown",
   "id": "3f4e1672",
   "metadata": {},
   "source": [
    "The Fish Market dataset contains measurements of fish species commonly found in markets, with features such as Weight, Height, Width, and multiple Length attributes. It includes both continuous variables (like weight and dimensions) and a categorical target variable, Species, representing different types of fish. This dataset allows for exploration of relationships between physical characteristics and the species, making it suitable for regression and classification tasks. The goal is to understand patterns in the data and predict the weight based on the fish's attributes."
   ]
  },
  {
   "cell_type": "markdown",
   "id": "4afab8f6",
   "metadata": {},
   "source": [
    "## Imports and Setup"
   ]
  },
  {
   "cell_type": "code",
   "execution_count": null,
   "id": "b92e6588",
   "metadata": {},
   "outputs": [],
   "source": [
    "\n",
    "\n",
    "import pandas as pd\n",
    "import numpy as np\n",
    "import matplotlib.pyplot as plt\n",
    "import seaborn as sns\n",
    "from sklearn.model_selection import train_test_split\n",
    "from sklearn.metrics import accuracy_score\n",
    "df = pd.read_csv(\"data2.csv\")\n",
    "\n",
    "\n",
    "df.sample(10)"
   ]
  },
  {
   "cell_type": "markdown",
   "id": "d9acbcd7",
   "metadata": {},
   "source": [
    "## Exploratory Data Analysis (EDA)"
   ]
  },
  {
   "cell_type": "code",
   "execution_count": null,
   "id": "2f1afdaa",
   "metadata": {},
   "outputs": [],
   "source": [
    "df.info()"
   ]
  },
  {
   "cell_type": "code",
   "execution_count": null,
   "id": "390ab139",
   "metadata": {},
   "outputs": [],
   "source": [
    "missing_values = df.isnull().sum()\n",
    "print(missing_values)"
   ]
  },
  {
   "cell_type": "markdown",
   "id": "cb1507d7",
   "metadata": {},
   "source": [
    "No missing data found"
   ]
  },
  {
   "cell_type": "code",
   "execution_count": null,
   "id": "95254b8e",
   "metadata": {},
   "outputs": [],
   "source": [
    "zero_counts = (df == 0).sum()\n",
    "print(zero_counts)\n",
    "\n",
    "\n",
    "df = df[(df != 0).all(axis=1)]\n"
   ]
  },
  {
   "cell_type": "code",
   "execution_count": null,
   "id": "1587bb5b",
   "metadata": {},
   "outputs": [],
   "source": [
    "zero_counts = (df == 0).sum()\n",
    "print(zero_counts)"
   ]
  },
  {
   "cell_type": "markdown",
   "id": "6bb8d524",
   "metadata": {},
   "source": [
    "Cleaning out 0 valued weight, since it is likely to be an inertion error"
   ]
  },
  {
   "cell_type": "markdown",
   "id": "16545bfe",
   "metadata": {},
   "source": [
    "## First impression plots"
   ]
  },
  {
   "cell_type": "code",
   "execution_count": null,
   "id": "4faf6f28",
   "metadata": {
    "vscode": {
     "languageId": "markdown"
    }
   },
   "outputs": [],
   "source": [
    "\n",
    "plt.figure(figsize=(10, 6))\n",
    "sns.countplot(data=df, x='Species', hue='Species', palette='viridis', legend=False)\n",
    "plt.title(\"Distribution of Species\")\n",
    "plt.xlabel(\"Species\")\n",
    "plt.ylabel(\"Count\")\n",
    "plt.xticks(rotation=45)\n",
    "plt.show()\n",
    "\n",
    "\n"
   ]
  },
  {
   "cell_type": "markdown",
   "id": "260c61e8",
   "metadata": {},
   "source": [
    "the Perch species appears to be the most represented in the dataset, while the Whitefish is the least frequent, indicating a class imbalance that may need to be considered during modeling."
   ]
  },
  {
   "cell_type": "code",
   "execution_count": null,
   "id": "45f248a2",
   "metadata": {},
   "outputs": [],
   "source": [
    "plt.figure(figsize=(12, 6))\n",
    "sns.boxplot(data=df.select_dtypes(include=['float64']))\n",
    "plt.title(\"Boxplot to Identify Outliers\")\n",
    "plt.show()\n"
   ]
  },
  {
   "cell_type": "markdown",
   "id": "15234189",
   "metadata": {},
   "source": [
    "The boxplot reveals significant outliers in the 'Weight' feature, with values extending far beyond the upper quartile. These outliers appear to be genuine observations rather than errors, as they follow the expected biological pattern where larger fish have disproportionately greater weight compared to length dimensions."
   ]
  },
  {
   "cell_type": "code",
   "execution_count": null,
   "id": "7bd2412a",
   "metadata": {
    "vscode": {
     "languageId": "markdown"
    }
   },
   "outputs": [],
   "source": [
    "features = ['Height', 'Width', 'Length1', 'Length2', 'Length3']\n",
    "\n",
    "fig, axes = plt.subplots(len(features), 1, figsize=(6, 6 * len(features)))\n",
    "\n",
    "\n",
    "for i, feature in enumerate(features):\n",
    "    sns.scatterplot(data=df, x=feature, y='Weight', hue='Species', palette='husl', ax=axes[i])\n",
    "    axes[i].set_title(f\"Weight vs {feature}\")\n",
    "    axes[i].set_xlabel(feature)\n",
    "    axes[i].set_ylabel('Weight')\n",
    "\n",
    "\n",
    "plt.subplots_adjust(hspace=0.5)\n",
    "\n",
    "plt.show()"
   ]
  },
  {
   "cell_type": "markdown",
   "id": "6beadb07",
   "metadata": {},
   "source": [
    "The plots reveal a positive correlation between the dimensions of the fish (height, width, and various lengths) and its weight. While the relationship is generally positive, it does not appear to follow a strictly linear pattern, suggesting a more complex or non-linear interaction between these variables"
   ]
  },
  {
   "cell_type": "code",
   "execution_count": null,
   "id": "06a6c018",
   "metadata": {
    "vscode": {
     "languageId": "markdown"
    }
   },
   "outputs": [],
   "source": [
    "df_numeric = df.select_dtypes(include='number')\n",
    "plt.figure(figsize=(10, 8))\n",
    "correlation_matrix = df_numeric.corr()\n",
    "sns.heatmap(correlation_matrix, annot=True, cmap='coolwarm', fmt=\".2f\", linewidths=0.5)\n",
    "plt.title(\"Correlation Matrix \")\n",
    "plt.show()"
   ]
  },
  {
   "cell_type": "code",
   "execution_count": null,
   "id": "0387979f",
   "metadata": {},
   "outputs": [],
   "source": [
    "\n",
    "lengths = df_numeric[['Length1', 'Length2', 'Length3']]\n",
    "cov_matrix = lengths.cov()\n",
    "eigenvalues = np.linalg.eigvals(cov_matrix)\n",
    "\n",
    "print(\"Eigenvalues for the lengths:\", eigenvalues)\n"
   ]
  },
  {
   "cell_type": "code",
   "execution_count": null,
   "id": "df1e832b",
   "metadata": {},
   "outputs": [],
   "source": [
    "print(correlation_matrix['Weight'].sort_values(ascending=False))\n"
   ]
  },
  {
   "cell_type": "markdown",
   "id": "6b82915b",
   "metadata": {},
   "source": [
    "There appears to be multicollinearity among the three length measurements (Length1, Length2, and Length3). This is evident from both their high pairwise correlations and the eigenvalues of their correlation matrix: [348.4, 0.0345, 1.133]. The presence of a very small eigenvalue (~0.03) indicates that at least one of these features contributes very little unique information and is likely a linear combination of the others.\n",
    "\n",
    "To reduce redundancy and simplify the model without losing essential information, we will retain only Length3, as it best represents the overall length of the fish."
   ]
  },
  {
   "cell_type": "code",
   "execution_count": null,
   "id": "3bf8af99",
   "metadata": {},
   "outputs": [],
   "source": [
    "plt.figure(figsize=(8, 5))\n",
    "sns.histplot(df['Weight'], kde=True, bins=30, color='skyblue')\n",
    "plt.title('Distribution of Weight')\n",
    "plt.xlabel('Weight')\n",
    "plt.ylabel('Frequency')\n",
    "plt.grid(True)\n",
    "plt.show()"
   ]
  },
  {
   "cell_type": "markdown",
   "id": "7afbb913",
   "metadata": {},
   "source": [
    "Most of the fish weights are concentrated on the lower end of the scale, with a long tail extending to the right, indicating a smaller number of fish with significantly higher weights. This right-skewed distribution is also confirmed by the KDE curve, which peaks early and gradually tapers off. To address this skewness and improve model performance, a transformation (square root) of the weight variable is necessary."
   ]
  },
  {
   "cell_type": "code",
   "execution_count": null,
   "id": "8dade724",
   "metadata": {},
   "outputs": [],
   "source": [
    "import scipy.stats as stats\n",
    "\n",
    "grouped_length3 = [df[df['Species'] == species]['Length3'] for species in df['Species'].unique()]\n",
    "f_statistic_length3, p_value_length3 = stats.f_oneway(*grouped_length3)\n",
    "print(f\"ANOVA for Length3 - p-value: {p_value_length3}\")\n",
    "if p_value_length3 < 0.05:\n",
    "    print(\"There is a significant difference between the species with respect to Length3.\")\n",
    "else:\n",
    "    print(\"There is no significant difference between the species with respect to Length3.\")\n",
    "\n",
    "\n",
    "grouped_height = [df[df['Species'] == species]['Height'] for species in df['Species'].unique()]\n",
    "f_statistic_height, p_value_height = stats.f_oneway(*grouped_height)\n",
    "print(f\"ANOVA for Height - p-value: {p_value_height}\")\n",
    "if p_value_height < 0.05:\n",
    "    print(\"There is a significant difference between the species with respect to Height.\")\n",
    "else:\n",
    "    print(\"There is no significant difference between the species with respect to Height.\")\n",
    "\n",
    "grouped_width = [df[df['Species'] == species]['Width'] for species in df['Species'].unique()]\n",
    "f_statistic_width, p_value_width = stats.f_oneway(*grouped_width)\n",
    "print(f\"ANOVA for Width - p-value: {p_value_width}\")\n",
    "if p_value_width < 0.05:\n",
    "    print(\"There is a significant difference between the species with respect to Width.\")\n",
    "else:\n",
    "    print(\"There is no significant difference between the species with respect to Width.\")\n",
    "\n"
   ]
  },
  {
   "cell_type": "markdown",
   "id": "435a55a1",
   "metadata": {},
   "source": [
    "To incorporate the difference in the features across species into the model, we can create ratios feature"
   ]
  },
  {
   "cell_type": "code",
   "execution_count": null,
   "id": "0ce81443",
   "metadata": {},
   "outputs": [],
   "source": [
    "Fishmarket = df\n",
    "mean_lengths = Fishmarket.groupby('Species')['Length3'].mean()\n",
    "mean_height = Fishmarket.groupby('Species')['Height'].mean()\n",
    "mean_width = Fishmarket.groupby('Species')['Width'].mean()\n",
    "Fishmarket['Length3_to_mean_ratio'] = Fishmarket.apply(lambda row: row['Length3'] / mean_lengths[row['Species']], axis=1)\n",
    "Fishmarket['Height_to_mean_ratio'] = Fishmarket.apply(lambda row: row['Height'] / mean_height[row['Species']], axis=1)\n",
    "Fishmarket['Width_to_mean_ratio'] = Fishmarket.apply(lambda row: row['Width'] / mean_width[row['Species']], axis=1)"
   ]
  },
  {
   "cell_type": "code",
   "execution_count": null,
   "id": "4faf0f87",
   "metadata": {},
   "outputs": [],
   "source": [
    "\n",
    "Fishmarket.drop(columns=['Length1', 'Length2'], inplace=True)\n",
    "Fishmarket.sample(10)"
   ]
  },
  {
   "cell_type": "markdown",
   "id": "be78f6d1",
   "metadata": {},
   "source": [
    "## Model Building"
   ]
  },
  {
   "cell_type": "code",
   "execution_count": null,
   "id": "6fb6221d",
   "metadata": {},
   "outputs": [],
   "source": [
    "from sklearn.linear_model import LinearRegression\n",
    "from sklearn.model_selection import train_test_split\n",
    "from sklearn.metrics import r2_score\n",
    "import numpy as np\n",
    "\n",
    "\n",
    "features = ['Length3', 'Height', 'Width', 'Length3_to_mean_ratio',\"Height_to_mean_ratio\",'Width_to_mean_ratio']\n",
    "X = df[features]\n",
    "y = df['Weight']\n",
    "\n",
    "y_sqrt = np.sqrt(y)\n",
    "\n",
    "\n",
    "X_train, X_test, y_train, y_test = train_test_split(X, y_sqrt, test_size=0.2, random_state=42)\n",
    "\n",
    "\n",
    "model = LinearRegression()\n",
    "\n",
    "model.fit(X_train, y_train)\n",
    "\n",
    "y_pred = model.predict(X_test)\n",
    "\n",
    "\n",
    "r2 = r2_score(y_test, y_pred)\n",
    "\n",
    "\n",
    "print(\"Square Root Transformed Target\")\n",
    "print(f\"R²: {r2:.4f}\")\n"
   ]
  },
  {
   "cell_type": "code",
   "execution_count": null,
   "id": "ccea9d00",
   "metadata": {},
   "outputs": [],
   "source": [
    "\n",
    "y_pred = model.predict(X)\n",
    "\n",
    "\n",
    "plt.figure(figsize=(10, 6))\n",
    "plt.scatter(y_sqrt, y_pred, color='blue', label='Predicted vs Actual')\n",
    "plt.plot([min(y_sqrt), max(y_sqrt)], [min(y_sqrt), max(y_sqrt)], color='red', linestyle='--', label='Perfect Prediction')\n",
    "plt.title('Actual vs Predicted Values (Square Root Transformed Target)')\n",
    "plt.xlabel('Actual Values (Square Root of Weight)')\n",
    "plt.ylabel('Predicted Values (Square Root of Weight)')\n",
    "plt.legend()\n",
    "plt.show()\n"
   ]
  },
  {
   "cell_type": "code",
   "execution_count": null,
   "id": "be0a5396",
   "metadata": {},
   "outputs": [],
   "source": [
    "\n",
    "feature_importance = pd.DataFrame({\n",
    "    'Feature': features,\n",
    "    'Importance': np.abs(model.coef_)\n",
    "}).sort_values(by='Importance', ascending=False)\n",
    "\n",
    "print(feature_importance)\n",
    "\n"
   ]
  },
  {
   "cell_type": "code",
   "execution_count": null,
   "id": "8c707087",
   "metadata": {},
   "outputs": [],
   "source": [
    "from sklearn.linear_model import Ridge\n",
    "from sklearn.metrics import mean_squared_error\n",
    "\n",
    "\n",
    "ridge_model = Ridge(alpha=1.0)\n",
    "\n",
    "\n",
    "ridge_model.fit(X_train, y_train)\n",
    "\n",
    "\n",
    "y_pred_ridge = ridge_model.predict(X_test)\n",
    "\n",
    "\n",
    "r2_ridge = r2_score(y_test, y_pred_ridge)\n",
    "\n",
    "mse_ridge = mean_squared_error(y_test, y_pred_ridge)\n",
    "\n",
    "print(\"Ridge Regression Model\")\n",
    "print(f\"R²: {r2_ridge:.4f}\")\n",
    "print(f\"MSE: {mse_ridge:.4f}\")"
   ]
  },
  {
   "cell_type": "code",
   "execution_count": null,
   "id": "6256601b",
   "metadata": {},
   "outputs": [],
   "source": [
    "from sklearn.linear_model import ElasticNet\n",
    "from sklearn.metrics import mean_squared_error, r2_score\n",
    "\n",
    "elastic_net_model = ElasticNet(alpha=1.0, l1_ratio=0.5, random_state=42)\n",
    "\n",
    "\n",
    "elastic_net_model.fit(X_train, y_train)\n",
    "\n",
    "\n",
    "y_pred_elastic = elastic_net_model.predict(X_test)\n",
    "\n",
    "r2_elastic = r2_score(y_test, y_pred_elastic)\n",
    "mse_elastic = mean_squared_error(y_test, y_pred_elastic)\n",
    "\n",
    "print(\"Elastic Net Regression Model\")\n",
    "print(f\"R²: {r2_elastic:.4f}\")\n",
    "print(f\"MSE: {mse_elastic:.4f}\")\n",
    "\n"
   ]
  },
  {
   "cell_type": "code",
   "execution_count": null,
   "id": "814eac37",
   "metadata": {},
   "outputs": [],
   "source": [
    "from xgboost import XGBRegressor\n",
    "from sklearn.metrics import mean_squared_error, r2_score\n",
    "\n",
    "xgb_model = XGBRegressor(random_state=42, n_estimators=100, learning_rate=0.1)\n",
    "\n",
    "xgb_model.fit(X_train, y_train)\n",
    "\n",
    "\n",
    "y_pred_xgb = xgb_model.predict(X_test)\n",
    "\n",
    "r2_xgb = r2_score(y_test, y_pred_xgb)\n",
    "mse_xgb = mean_squared_error(y_test, y_pred_xgb)\n",
    "\n",
    "print(\"XGBoost Regressor Model\")\n",
    "print(f\"R²: {r2_xgb:.4f}\")\n",
    "print(f\"MSE: {mse_xgb:.4f}\")\n",
    "\n"
   ]
  },
  {
   "cell_type": "code",
   "execution_count": null,
   "id": "5d700b10",
   "metadata": {},
   "outputs": [],
   "source": [
    "from sklearn.svm import SVR\n",
    "from sklearn.metrics import mean_squared_error, r2_score\n",
    "\n",
    "\n",
    "svr_model = SVR(kernel='linear')\n",
    "\n",
    "svr_model.fit(X_train, y_train)\n",
    "\n",
    "\n",
    "y_pred_svr = svr_model.predict(X_test)\n",
    "\n",
    "\n",
    "r2_svr = r2_score(y_test, y_pred_svr)\n",
    "mse_svr = mean_squared_error(y_test, y_pred_svr)\n",
    "\n",
    "print(\"SVR with Linear Kernel\")\n",
    "print(f\"R²: {r2_svr:.4f}\")\n",
    "print(f\"MSE: {mse_svr:.4f}\")"
   ]
  },
  {
   "cell_type": "code",
   "execution_count": null,
   "id": "2bebad69",
   "metadata": {},
   "outputs": [],
   "source": []
  },
  {
   "cell_type": "markdown",
   "id": "17b811ab",
   "metadata": {},
   "source": [
    "\n",
    "## Results and Conclusion\n",
    "\n",
    "After exploring various regression models to predict fish weight based on physical measurements, we've found that the Linear Regression model with square root transformation of the target variable performed best, achieving an R² score of 0.9894 on the test set. This high score indicates that the model can explain approximately 98.94% of the variance in fish weight using the selected features.\n",
    "\n",
    "Key findings from our analysis:\n",
    "\n",
    "1. The square root transformation effectively addressed the right-skewed distribution of the weight variable, enabling more accurate predictions.\n",
    "\n",
    "2. The species-specific ratio features we engineered provided additional predictive power by capturing how individual fish compare to the typical measurements for their species.\n",
    "\n",
    "3. The strong correlation between the three length measurements allowed us to simplify the model by using only Length3 without sacrificing performance.\n",
    "\n",
    "4. While more complex models like XGBoost were tested, the linear regression model provided the best balance of performance, interpretability, and simplicity. This suggests that the relationship between fish dimensions and weight, when appropriately transformed, can be well-approximated by a linear function.\n",
    "\n",
    "These findings have practical applications in fish markets, where accurately estimating fish weight from easily measurable dimensions can streamline operations. Additionally, for marine biologists, this model offers insights into the dimensional relationships that determine fish weight across different species.\n"
   ]
  }
 ],
 "metadata": {
  "kernelspec": {
   "display_name": "Python 3",
   "language": "python",
   "name": "python3"
  },
  "language_info": {
   "codemirror_mode": {
    "name": "ipython",
    "version": 3
   },
   "file_extension": ".py",
   "mimetype": "text/x-python",
   "name": "python",
   "nbconvert_exporter": "python",
   "pygments_lexer": "ipython3",
   "version": "3.12.2"
  }
 },
 "nbformat": 4,
 "nbformat_minor": 5
}
